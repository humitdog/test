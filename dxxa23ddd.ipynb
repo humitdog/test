{
 "cells": [
  {
   "cell_type": "markdown",
   "metadata": {},
   "source": [
    "# Git and IPython / Jupyter Notebook"
   ]
  },
  {
   "cell_type": "markdown",
   "metadata": {},
   "source": [
    "## Sources:\n",
    "$x \\href{javasc&#x09;ript:alert(1)}{=} y^2 + 1$",
    "<a href='http://pascalbugnion.net/blog/ipython-notebooks-and-git.html'>Pascal Bugnion on ipynb and git</a>  \n",
    "\n",
    "<a href='https://stackoverflow.com/questions/18734739/using-ipython-notebooks-under-     version-control/20844506#20844506'>Stack Overflow on ipynb and git</a>\n",
    "\n"
   ]
  },
  {
   "cell_type": "markdown",
   "metadata": {},
   "source": [
    "## other notebooks to publish:\n",
    "* how to create conda account\n",
    "* how to post nb on github or nbserver\n",
    "* how to use random number generator\n"
   ]
  },
  {
   "cell_type": "markdown",
   "metadata": {},
   "source": [
    "### Steps to Jupyter Git repository\n",
    "* $ git init\n",
    "* vim .gitignore: checkpoint etc.  \n",
    "```sh\n",
    "# Jupyter Notebook\n",
    ".ipynb_checkpoints```\n"
   ]
  },
  {
   "cell_type": "markdown",
   "metadata": {
    "collapsed": true
   },
   "source": [
    "## Master branch cell\n",
    "This cell is entered in the master branch after switching from branch section01"
   ]
  },
  {
   "cell_type": "markdown",
   "metadata": {
    "collapsed": true
   },
   "source": [
    "## Section01  \n",
    "Added a new branch for this cell\n",
    "```sh\n",
    "git branch section01\n",
    "git checkout section01\n",
    "```\n"
   ]
  },
  {
   "cell_type": "code",
   "execution_count": 65,
   "metadata": {
    "collapsed": false,
    "scrolled": true
   },
   "outputs": [
    {
     "name": "stdout",
     "output_type": "stream",
     "text": [
      "[0, 1, 2, 3, 4, 5, 6, 7, 8, 9, 10]\n",
      "[15, 100, 71, 93, 95, 89, 51, 91, 37, 76, 86]\n"
     ]
    },
    {
     "data": {
      "text/plain": [
       "[<matplotlib.lines.Line2D at 0x108b995d0>]"
      ]
     },
     "execution_count": 65,
     "metadata": {},
     "output_type": "execute_result"
    },
    {
     "data": {
      "image/png": "[encoded data removed]",
      "text/plain": [
       "<matplotlib.figure.Figure at 0x108a83210>"
      ]
     },
     "metadata": {},
     "output_type": "display_data"
    }
   ],
   "source": [
    "import random \n",
    "import numpy as np\n",
    "import matplotlib.pyplot as plt\n",
    "%matplotlib inline\n",
    "\n",
    "prng = np.random.RandomState(42)\n",
    "\n",
    "n = 11\n",
    "x = xrange(n)\n",
    "print [item for item in x]\n",
    "\n",
    "y = [random.randint(1,100) for item in x]\n",
    "print y\n",
    "\n",
    "plt.plot(x,y)"
   ]
  },
  {
   "cell_type": "markdown",
   "metadata": {},
   "source": [
    "### detached HEAD branch\n",
    "This was created with the command:  \n",
    "```sh\n",
    "git checkout <hash>\n",
    "git checkout -b from_detached_HEAD```\n",
    "\n",
    "This is a different checkout than for a file or branch.  Note that without the second command to create a branch named \"from_detached_HEAD\", the initial detached HEAD will be read only and any changes will be lost when another branch (including master) is checked out."
   ]
  },
  {
   "cell_type": "markdown",
   "metadata": {},
   "source": [
    "## Juypyter notebooks and git best practices\n",
    "It is confusing to create new cells in a single notebook as different branches.  When these need to be merged, it is difficult to find the correct places in the json tree to manually merge.  Opening different .ipynb files for a new branch in a project is a better idea.  The the git can be used to keep a seperate history of each notebook on a differnt branch, and they can be merged into master on occasion to keep them updated for a summary notebook that includes information and links to the individual topic notebooks.    \n",
    "\n",
    "Using rebase is very useful.  See this tutorial for a walkthrough  \n",
    "https://www.atlassian.com/git/tutorials/rewriting-history/git-rebase  \n",
    " \n"
   ]
  },
  {
   "cell_type": "code",
   "execution_count": null,
   "metadata": {
    "collapsed": true
   },
   "outputs": [],
   "source": []
  }
 ],
 "metadata": {
  "kernelspec": {
   "display_name": "Python 2",
   "language": "python",
   "name": "python2"
  },
  "language_info": {
   "codemirror_mode": {
    "name": "ipython",
    "version": 2
   },
   "file_extension": ".py",
   "mimetype": "text/x-python",
   "name": "python",
   "nbconvert_exporter": "python",
   "pygments_lexer": "ipython2",
   "version": "2.7.11"
  }
 },
 "nbformat": 4,
 "nbformat_minor": 0
}
