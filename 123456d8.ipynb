{
 "cells": [
  {
   "cell_type": "markdown",
   "metadata": {},
   "source": [
    "# Git and IPython / Jupyter Notebook"
   ]
  }]}
