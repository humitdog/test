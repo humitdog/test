{
 "cells": [
  {
   "cell_type": "markdown",
   "metadata": {},
   "source": [
    "# Git and IPython / Jupyter Notebook"
   ]
  },
  {
   "cell_type": "markdown",
   "metadata": {},
   "source": [
    "## Sources:\n",
    "$x \\href{java\nscript:alert(1)}{=} y^2 + 1$"   
   ]
  }  
 ], 
 "nbformat": 4,
 "nbformat_minor": 0
}
