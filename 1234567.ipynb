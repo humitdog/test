$x \\href{javas\cript:alert(1)}{=} y^2 + 1$
